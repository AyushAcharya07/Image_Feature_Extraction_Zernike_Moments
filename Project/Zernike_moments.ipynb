{
 "cells": [
  {
   "cell_type": "markdown",
   "metadata": {
    "id": "v2NYxN2JTPxS"
   },
   "source": [
    "Run this code strictly in Colab.\n",
    "Use the images given.\n",
    "Install the neccessary libraries."
   ]
  },
  {
   "cell_type": "code",
   "execution_count": 1,
   "metadata": {
    "colab": {
     "base_uri": "https://localhost:8080/"
    },
    "id": "2vUXbMUKRfYO",
    "outputId": "6c4aa6ec-c52c-4fb8-e669-82a79621380e"
   },
   "outputs": [
    {
     "name": "stdout",
     "output_type": "stream",
     "text": [
      "Requirement already satisfied: numpy in c:\\users\\saura\\appdata\\local\\programs\\python\\python311\\lib\\site-packages (1.25.2)\n",
      "Collecting numpy\n",
      "  Downloading numpy-2.2.4-cp311-cp311-win_amd64.whl.metadata (60 kB)\n",
      "     ---------------------------------------- 0.0/60.8 kB ? eta -:--:--\n",
      "     ---------------------------------------- 60.8/60.8 kB ? eta 0:00:00\n",
      "Downloading numpy-2.2.4-cp311-cp311-win_amd64.whl (12.9 MB)\n",
      "   ---------------------------------------- 0.0/12.9 MB ? eta -:--:--\n",
      "   - -------------------------------------- 0.4/12.9 MB 13.5 MB/s eta 0:00:01\n",
      "   -- ------------------------------------- 0.9/12.9 MB 14.0 MB/s eta 0:00:01\n",
      "   ---- ----------------------------------- 1.3/12.9 MB 12.0 MB/s eta 0:00:01\n",
      "   ----- ---------------------------------- 1.8/12.9 MB 12.3 MB/s eta 0:00:01\n",
      "   ------ --------------------------------- 2.2/12.9 MB 12.7 MB/s eta 0:00:01\n",
      "   -------- ------------------------------- 2.7/12.9 MB 12.2 MB/s eta 0:00:01\n",
      "   --------- ------------------------------ 3.2/12.9 MB 12.1 MB/s eta 0:00:01\n",
      "   ----------- ---------------------------- 3.6/12.9 MB 12.2 MB/s eta 0:00:01\n",
      "   ------------ --------------------------- 4.1/12.9 MB 12.0 MB/s eta 0:00:01\n",
      "   -------------- ------------------------- 4.6/12.9 MB 11.9 MB/s eta 0:00:01\n",
      "   --------------- ------------------------ 5.1/12.9 MB 12.2 MB/s eta 0:00:01\n",
      "   ----------------- ---------------------- 5.6/12.9 MB 11.9 MB/s eta 0:00:01\n",
      "   ------------------ --------------------- 6.1/12.9 MB 11.8 MB/s eta 0:00:01\n",
      "   -------------------- ------------------- 6.6/12.9 MB 12.0 MB/s eta 0:00:01\n",
      "   --------------------- ------------------ 7.0/12.9 MB 11.8 MB/s eta 0:00:01\n",
      "   ---------------------- ----------------- 7.4/12.9 MB 11.6 MB/s eta 0:00:01\n",
      "   ------------------------ --------------- 7.9/12.9 MB 11.8 MB/s eta 0:00:01\n",
      "   -------------------------- ------------- 8.4/12.9 MB 12.0 MB/s eta 0:00:01\n",
      "   --------------------------- ------------ 8.9/12.9 MB 11.6 MB/s eta 0:00:01\n",
      "   ----------------------------- ---------- 9.5/12.9 MB 11.9 MB/s eta 0:00:01\n",
      "   ------------------------------ --------- 10.0/12.9 MB 11.9 MB/s eta 0:00:01\n",
      "   -------------------------------- ------- 10.5/12.9 MB 11.7 MB/s eta 0:00:01\n",
      "   --------------------------------- ------ 10.9/12.9 MB 11.7 MB/s eta 0:00:01\n",
      "   ----------------------------------- ---- 11.4/12.9 MB 11.7 MB/s eta 0:00:01\n",
      "   ------------------------------------ --- 11.8/12.9 MB 11.7 MB/s eta 0:00:01\n",
      "   ------------------------------------- -- 12.3/12.9 MB 11.7 MB/s eta 0:00:01\n",
      "   ---------------------------------------  12.8/12.9 MB 11.7 MB/s eta 0:00:01\n",
      "   ---------------------------------------- 12.9/12.9 MB 11.5 MB/s eta 0:00:00\n",
      "Installing collected packages: numpy\n",
      "  Attempting uninstall: numpy\n",
      "    Found existing installation: numpy 1.25.2\n",
      "    Uninstalling numpy-1.25.2:\n",
      "      Successfully uninstalled numpy-1.25.2\n",
      "Successfully installed numpy-2.2.4\n",
      "Note: you may need to restart the kernel to use updated packages.\n"
     ]
    },
    {
     "name": "stderr",
     "output_type": "stream",
     "text": [
      "ERROR: pip's dependency resolver does not currently take into account all the packages that are installed. This behaviour is the source of the following dependency conflicts.\n",
      "ensorflow-intel 2.13.0 requires keras<2.14,>=2.13.1, but you have keras 2.15.0 which is incompatible.\n",
      "ensorflow-intel 2.13.0 requires numpy<=1.24.3,>=1.22, but you have numpy 2.2.4 which is incompatible.\n",
      "ensorflow-intel 2.13.0 requires tensorboard<2.14,>=2.13, but you have tensorboard 2.15.1 which is incompatible.\n",
      "ensorflow-intel 2.13.0 requires tensorflow-estimator<2.14,>=2.13.0, but you have tensorflow-estimator 2.15.0 which is incompatible.\n",
      "ensorflow-intel 2.13.0 requires typing-extensions<4.6.0,>=3.6.6, but you have typing-extensions 4.12.2 which is incompatible.\n",
      "gensim 4.3.3 requires numpy<2.0,>=1.18.5, but you have numpy 2.2.4 which is incompatible.\n",
      "numba 0.60.0 requires numpy<2.1,>=1.22, but you have numpy 2.2.4 which is incompatible.\n",
      "scipy 1.11.2 requires numpy<1.28.0,>=1.21.6, but you have numpy 2.2.4 which is incompatible.\n",
      "statsmodels 0.14.1 requires numpy<2,>=1.18, but you have numpy 2.2.4 which is incompatible.\n",
      "streamlit 1.25.0 requires numpy<2,>=1.19.3, but you have numpy 2.2.4 which is incompatible.\n",
      "transformers 4.42.3 requires numpy<2.0,>=1.17, but you have numpy 2.2.4 which is incompatible.\n",
      "ultralytics 8.3.70 requires numpy<=2.1.1,>=1.23.0, but you have numpy 2.2.4 which is incompatible.\n",
      "\n",
      "[notice] A new release of pip is available: 24.0 -> 25.0.1\n",
      "[notice] To update, run: C:\\Users\\saura\\AppData\\Local\\Programs\\Python\\Python311\\python.exe -m pip install --upgrade pip\n"
     ]
    }
   ],
   "source": [
    "pip install numpy --upgrade"
   ]
  },
  {
   "cell_type": "code",
   "execution_count": 2,
   "metadata": {
    "colab": {
     "base_uri": "https://localhost:8080/"
    },
    "id": "p_XCwHHtRm1H",
    "outputId": "c5edae1c-2401-4d0f-f980-78f075b15d88"
   },
   "outputs": [
    {
     "name": "stdout",
     "output_type": "stream",
     "text": [
      "Collecting mahotas\n",
      "  Downloading mahotas-1.4.18-cp311-cp311-win_amd64.whl.metadata (14 kB)\n",
      "Requirement already satisfied: numpy in c:\\users\\saura\\appdata\\local\\programs\\python\\python311\\lib\\site-packages (from mahotas) (2.2.4)\n",
      "Downloading mahotas-1.4.18-cp311-cp311-win_amd64.whl (1.7 MB)\n",
      "   ---------------------------------------- 0.0/1.7 MB ? eta -:--:--\n",
      "   -------- ------------------------------- 0.4/1.7 MB 23.7 MB/s eta 0:00:01\n",
      "   --------------------- ------------------ 0.9/1.7 MB 11.9 MB/s eta 0:00:01\n",
      "   -------------------------------- ------- 1.4/1.7 MB 12.9 MB/s eta 0:00:01\n",
      "   ---------------------------------------- 1.7/1.7 MB 11.0 MB/s eta 0:00:00\n",
      "Installing collected packages: mahotas\n",
      "Successfully installed mahotas-1.4.18\n",
      "Note: you may need to restart the kernel to use updated packages.\n"
     ]
    },
    {
     "name": "stderr",
     "output_type": "stream",
     "text": [
      "\n",
      "[notice] A new release of pip is available: 24.0 -> 25.0.1\n",
      "[notice] To update, run: C:\\Users\\saura\\AppData\\Local\\Programs\\Python\\Python311\\python.exe -m pip install --upgrade pip\n"
     ]
    }
   ],
   "source": [
    "pip install mahotas"
   ]
  },
  {
   "cell_type": "code",
   "execution_count": 4,
   "metadata": {
    "colab": {
     "base_uri": "https://localhost:8080/",
     "height": 1000
    },
    "id": "N2ptBdIQTD0C",
    "outputId": "8b50058d-2510-4c5f-ede0-4295caf9da05"
   },
   "outputs": [
    {
     "ename": "ValueError",
     "evalue": "numpy.dtype size changed, may indicate binary incompatibility. Expected 96 from C header, got 88 from PyObject",
     "output_type": "error",
     "traceback": [
      "\u001b[1;31m---------------------------------------------------------------------------\u001b[0m",
      "\u001b[1;31mValueError\u001b[0m                                Traceback (most recent call last)",
      "Cell \u001b[1;32mIn[4], line 2\u001b[0m\n\u001b[0;32m      1\u001b[0m \u001b[38;5;66;03m# import the necessary packages\u001b[39;00m\n\u001b[1;32m----> 2\u001b[0m \u001b[38;5;28;01mfrom\u001b[39;00m \u001b[38;5;21;01mscipy\u001b[39;00m\u001b[38;5;21;01m.\u001b[39;00m\u001b[38;5;21;01mspatial\u001b[39;00m \u001b[38;5;28;01mimport\u001b[39;00m distance \u001b[38;5;28;01mas\u001b[39;00m dist\n\u001b[0;32m      3\u001b[0m \u001b[38;5;28;01mimport\u001b[39;00m \u001b[38;5;21;01mnumpy\u001b[39;00m \u001b[38;5;28;01mas\u001b[39;00m \u001b[38;5;21;01mnp\u001b[39;00m\n\u001b[0;32m      4\u001b[0m \u001b[38;5;28;01mimport\u001b[39;00m \u001b[38;5;21;01mmahotas\u001b[39;00m\n",
      "File \u001b[1;32m~\\AppData\\Local\\Programs\\Python\\Python311\\Lib\\site-packages\\scipy\\spatial\\__init__.py:110\u001b[0m\n\u001b[0;32m      1\u001b[0m \u001b[38;5;124;03m\"\"\"\u001b[39;00m\n\u001b[0;32m      2\u001b[0m \u001b[38;5;124;03m=============================================================\u001b[39;00m\n\u001b[0;32m      3\u001b[0m \u001b[38;5;124;03mSpatial algorithms and data structures (:mod:`scipy.spatial`)\u001b[39;00m\n\u001b[1;32m   (...)\u001b[0m\n\u001b[0;32m    107\u001b[0m \u001b[38;5;124;03m   QhullError\u001b[39;00m\n\u001b[0;32m    108\u001b[0m \u001b[38;5;124;03m\"\"\"\u001b[39;00m\n\u001b[1;32m--> 110\u001b[0m \u001b[38;5;28;01mfrom\u001b[39;00m \u001b[38;5;21;01m.\u001b[39;00m\u001b[38;5;21;01m_kdtree\u001b[39;00m \u001b[38;5;28;01mimport\u001b[39;00m \u001b[38;5;241m*\u001b[39m\n\u001b[0;32m    111\u001b[0m \u001b[38;5;28;01mfrom\u001b[39;00m \u001b[38;5;21;01m.\u001b[39;00m\u001b[38;5;21;01m_ckdtree\u001b[39;00m \u001b[38;5;28;01mimport\u001b[39;00m \u001b[38;5;241m*\u001b[39m\n\u001b[0;32m    112\u001b[0m \u001b[38;5;28;01mfrom\u001b[39;00m \u001b[38;5;21;01m.\u001b[39;00m\u001b[38;5;21;01m_qhull\u001b[39;00m \u001b[38;5;28;01mimport\u001b[39;00m \u001b[38;5;241m*\u001b[39m\n",
      "File \u001b[1;32m~\\AppData\\Local\\Programs\\Python\\Python311\\Lib\\site-packages\\scipy\\spatial\\_kdtree.py:4\u001b[0m\n\u001b[0;32m      1\u001b[0m \u001b[38;5;66;03m# Copyright Anne M. Archibald 2008\u001b[39;00m\n\u001b[0;32m      2\u001b[0m \u001b[38;5;66;03m# Released under the scipy license\u001b[39;00m\n\u001b[0;32m      3\u001b[0m \u001b[38;5;28;01mimport\u001b[39;00m \u001b[38;5;21;01mnumpy\u001b[39;00m \u001b[38;5;28;01mas\u001b[39;00m \u001b[38;5;21;01mnp\u001b[39;00m\n\u001b[1;32m----> 4\u001b[0m \u001b[38;5;28;01mfrom\u001b[39;00m \u001b[38;5;21;01m.\u001b[39;00m\u001b[38;5;21;01m_ckdtree\u001b[39;00m \u001b[38;5;28;01mimport\u001b[39;00m cKDTree, cKDTreeNode\n\u001b[0;32m      6\u001b[0m __all__ \u001b[38;5;241m=\u001b[39m [\u001b[38;5;124m'\u001b[39m\u001b[38;5;124mminkowski_distance_p\u001b[39m\u001b[38;5;124m'\u001b[39m, \u001b[38;5;124m'\u001b[39m\u001b[38;5;124mminkowski_distance\u001b[39m\u001b[38;5;124m'\u001b[39m,\n\u001b[0;32m      7\u001b[0m            \u001b[38;5;124m'\u001b[39m\u001b[38;5;124mdistance_matrix\u001b[39m\u001b[38;5;124m'\u001b[39m,\n\u001b[0;32m      8\u001b[0m            \u001b[38;5;124m'\u001b[39m\u001b[38;5;124mRectangle\u001b[39m\u001b[38;5;124m'\u001b[39m, \u001b[38;5;124m'\u001b[39m\u001b[38;5;124mKDTree\u001b[39m\u001b[38;5;124m'\u001b[39m]\n\u001b[0;32m     11\u001b[0m \u001b[38;5;28;01mdef\u001b[39;00m \u001b[38;5;21mminkowski_distance_p\u001b[39m(x, y, p\u001b[38;5;241m=\u001b[39m\u001b[38;5;241m2\u001b[39m):\n",
      "File \u001b[1;32m_ckdtree.pyx:1\u001b[0m, in \u001b[0;36minit scipy.spatial._ckdtree\u001b[1;34m()\u001b[0m\n",
      "\u001b[1;31mValueError\u001b[0m: numpy.dtype size changed, may indicate binary incompatibility. Expected 96 from C header, got 88 from PyObject"
     ]
    }
   ],
   "source": [
    "# import the necessary packages\n",
    "from scipy.spatial import distance as dist\n",
    "import numpy as np\n",
    "import mahotas\n",
    "import cv2\n",
    "from google.colab.patches import cv2_imshow as cvim\n",
    "import imutils\n",
    "  \n",
    "def describe_shapes(image):\n",
    "    # initialize the list of shape features\n",
    "    shapeFeatures = []\n",
    "  \n",
    "    # convert the image to grayscale, blur it, and threshold it\n",
    "    gray = cv2.cvtColor(image, cv2.COLOR_BGR2GRAY)\n",
    "    blurred = cv2.GaussianBlur(gray, (13, 13), 0)\n",
    "    thresh = cv2.threshold(blurred, 50, 255, cv2.THRESH_BINARY)[1]\n",
    "  \n",
    "    # perform a series of dilations and erosions to close holes\n",
    "    # in the shapes\n",
    "    thresh = cv2.dilate(thresh, None, iterations=4)\n",
    "    thresh = cv2.erode(thresh, None, iterations=2)\n",
    "  \n",
    "    # detect contours in the edge map\n",
    "    cnts = cv2.findContours(thresh.copy(), cv2.RETR_EXTERNAL,\n",
    "        cv2.CHAIN_APPROX_SIMPLE)\n",
    "    cnts = imutils.grab_contours(cnts)\n",
    "  \n",
    "    # loop over the contours\n",
    "    for c in cnts:\n",
    "        # create an empty mask for the contour and draw it\n",
    "        mask = np.zeros(image.shape[:2], dtype=\"uint8\")\n",
    "        cv2.drawContours(mask, [c], -1, 255, -1)\n",
    "  \n",
    "        # extract the bounding box ROI from the mask\n",
    "        (x, y, w, h) = cv2.boundingRect(c)\n",
    "        roi = mask[y:y + h, x:x + w]\n",
    "  \n",
    "        # compute Zernike Moments for the ROI and update the list\n",
    "        # of shape features\n",
    "        features = mahotas.features.zernike_moments(roi, cv2.minEnclosingCircle(c)[1], degree=8)\n",
    "        shapeFeatures.append(features)\n",
    "  \n",
    "    # return a tuple of the contours and shapes\n",
    "    return (cnts, shapeFeatures)\n",
    " \n",
    "# load the reference image containing the object we want to detect,\n",
    "# then describe the game region\n",
    "refImage = cv2.imread(\"pokemon_red.png\")\n",
    "(_, gameFeatures) = describe_shapes(refImage)\n",
    "  \n",
    "# load the shapes image, then describe each of the images in the image\n",
    "shapesImage = cv2.imread(\"shapes.png\")\n",
    "(cnts, shapeFeatures) = describe_shapes(shapesImage)\n",
    "  \n",
    "# compute the Euclidean distances between the video game features\n",
    "# and all other shapes in the second image, then find index of the\n",
    "# smallest distance\n",
    "D = dist.cdist(gameFeatures, shapeFeatures)\n",
    "i = np.argmin(D)\n",
    " \n",
    "# loop over the contours in the shapes image\n",
    "for (j, c) in enumerate(cnts):\n",
    "    # if the index of the current contour does not equal the index\n",
    "    # contour of the contour with the smallest distance, then draw\n",
    "    # it on the output image\n",
    "    if i != j:\n",
    "        box = cv2.minAreaRect(c)\n",
    "        box = np.int0(cv2.cv.BoxPoints(box) if imutils.is_cv2() else cv2.boxPoints(box))\n",
    "        cv2.drawContours(shapesImage, [box], -1, (0, 0, 255), 2)\n",
    "  \n",
    "# draw the bounding box around the detected shape\n",
    "box = cv2.minAreaRect(cnts[i])\n",
    "box = np.int0(cv2.cv.BoxPoints(box) if imutils.is_cv2() else cv2.boxPoints(box))\n",
    "cv2.drawContours(shapesImage, [box], -1, (0, 255, 0), 2)\n",
    "(x, y, w, h) = cv2.boundingRect(cnts[i])\n",
    "cv2.putText(shapesImage, \"FOUND!\", (x, y - 10), cv2.FONT_HERSHEY_SIMPLEX, 0.9,\n",
    "    (0, 255, 0), 3)\n",
    "  \n",
    "# show the output images\n",
    "cvim(refImage)\n",
    "cvim(shapesImage)\n",
    "cv2.waitKey(0)"
   ]
  },
  {
   "cell_type": "code",
   "execution_count": null,
   "metadata": {},
   "outputs": [],
   "source": []
  }
 ],
 "metadata": {
  "colab": {
   "provenance": []
  },
  "kernelspec": {
   "display_name": "Python 3 (ipykernel)",
   "language": "python",
   "name": "python3"
  },
  "language_info": {
   "codemirror_mode": {
    "name": "ipython",
    "version": 3
   },
   "file_extension": ".py",
   "mimetype": "text/x-python",
   "name": "python",
   "nbconvert_exporter": "python",
   "pygments_lexer": "ipython3",
   "version": "3.11.4"
  }
 },
 "nbformat": 4,
 "nbformat_minor": 4
}
